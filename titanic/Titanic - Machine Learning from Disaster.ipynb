{
 "cells": [
  {
   "cell_type": "code",
   "execution_count": 94,
   "id": "e3dc58ec-f057-4a29-857d-a872738c0cb8",
   "metadata": {},
   "outputs": [],
   "source": [
    "import pandas as pd\n",
    "import numpy as np\n",
    "import matplotlib.pyplot as plt\n",
    "%matplotlib inline\n",
    "import seaborn as sns\n",
    "\n",
    "from glob import glob\n",
    "import io\n",
    "import os\n",
    "import math\n",
    "import json\n",
    "import pprint\n",
    "from plydata import define, query, select, head, do, group_by, summarize, arrange, left_join, distinct\n",
    "import duckdb\n",
    "\n",
    "from tabulate import tabulate\n",
    "def print_table(table):\n",
    "    print(tabulate(table, headers='keys', showindex=False, tablefmt='presto'))"
   ]
  },
  {
   "cell_type": "code",
   "execution_count": 104,
   "id": "beac3d25-1c4d-4d3e-bfb2-52051928987f",
   "metadata": {},
   "outputs": [],
   "source": [
    "train_df = pd.read_csv('train.csv')\n",
    "test_df = pd.read_csv('test.csv')\n",
    "gender_submission_df = pd.read_csv('gender_submission.csv')"
   ]
  },
  {
   "cell_type": "code",
   "execution_count": 105,
   "id": "f9a20237-1055-4f16-a5a9-6812afc01cfb",
   "metadata": {},
   "outputs": [
    {
     "name": "stdout",
     "output_type": "stream",
     "text": [
      "891 samples found in the training dataset and 418 samples found in the testing dataset\n"
     ]
    }
   ],
   "source": [
    "print(\"{} samples found in the training dataset and {} samples found in the testing dataset\".format(len(train_df), len(test_df)))"
   ]
  },
  {
   "cell_type": "code",
   "execution_count": 106,
   "id": "1fcd7948-d6e8-49e0-90fd-b728c3b2fe65",
   "metadata": {},
   "outputs": [],
   "source": [
    "test_data_ind_col = 'TestData'\n",
    "train_df[test_data_ind_col] = 0\n",
    "test_df[test_data_ind_col] = 1\n",
    "\n",
    "df = pd.concat([train_df, pd.merge(test_df, gender_submission_df, on=['PassengerId'])[train_df.columns]])"
   ]
  },
  {
   "cell_type": "code",
   "execution_count": 107,
   "id": "acfe776c-4feb-490a-a2ed-62451d929dc1",
   "metadata": {},
   "outputs": [
    {
     "name": "stdout",
     "output_type": "stream",
     "text": [
      "   PassengerId |   Survived |   Pclass | Name                                                | Sex    |   Age |   SibSp |   Parch | Ticket           |    Fare | Cabin   | Embarked   |   TestData\n",
      "---------------+------------+----------+-----------------------------------------------------+--------+-------+---------+---------+------------------+---------+---------+------------+------------\n",
      "             1 |          0 |        3 | Braund, Mr. Owen Harris                             | male   |    22 |       1 |       0 | A/5 21171        |  7.25   | nan     | S          |          0\n",
      "             2 |          1 |        1 | Cumings, Mrs. John Bradley (Florence Briggs Thayer) | female |    38 |       1 |       0 | PC 17599         | 71.2833 | C85     | C          |          0\n",
      "             3 |          1 |        3 | Heikkinen, Miss. Laina                              | female |    26 |       0 |       0 | STON/O2. 3101282 |  7.925  | nan     | S          |          0\n",
      "             4 |          1 |        1 | Futrelle, Mrs. Jacques Heath (Lily May Peel)        | female |    35 |       1 |       0 | 113803           | 53.1    | C123    | S          |          0\n",
      "             5 |          0 |        3 | Allen, Mr. William Henry                            | male   |    35 |       0 |       0 | 373450           |  8.05   | nan     | S          |          0\n"
     ]
    }
   ],
   "source": [
    "print_table(df >> head())"
   ]
  },
  {
   "cell_type": "code",
   "execution_count": 108,
   "id": "dfff19c3-7f32-4b6c-9c54-746bf8146b0e",
   "metadata": {},
   "outputs": [
    {
     "data": {
      "text/plain": [
       "PassengerId       0\n",
       "Survived          0\n",
       "Pclass            0\n",
       "Name              0\n",
       "Sex               0\n",
       "Age             263\n",
       "SibSp             0\n",
       "Parch             0\n",
       "Ticket            0\n",
       "Fare              1\n",
       "Cabin          1014\n",
       "Embarked          2\n",
       "TestData          0\n",
       "dtype: int64"
      ]
     },
     "execution_count": 108,
     "metadata": {},
     "output_type": "execute_result"
    }
   ],
   "source": [
    "df.isna().sum()"
   ]
  },
  {
   "cell_type": "code",
   "execution_count": 109,
   "id": "edd79627-5354-4beb-a9cb-51e43681edb2",
   "metadata": {},
   "outputs": [
    {
     "name": "stdout",
     "output_type": "stream",
     "text": [
      " Cabin   |   cnt\n",
      "---------+-------\n",
      " C85     |     2\n",
      " C123    |     2\n",
      " E46     |     2\n",
      " G6      |     5\n",
      " C103    |     1\n"
     ]
    }
   ],
   "source": [
    "print_table(df >> group_by('Cabin') >> summarize(cnt='n()') >> head())"
   ]
  },
  {
   "cell_type": "code",
   "execution_count": 110,
   "id": "fd2e7fe4-feb1-452e-aae9-a48202872820",
   "metadata": {},
   "outputs": [
    {
     "data": {
      "text/plain": [
       "Index(['PassengerId', 'Survived', 'Pclass', 'Name', 'Sex', 'Age', 'SibSp',\n",
       "       'Parch', 'Ticket', 'Fare', 'Cabin', 'Embarked', 'TestData'],\n",
       "      dtype='object')"
      ]
     },
     "execution_count": 110,
     "metadata": {},
     "output_type": "execute_result"
    }
   ],
   "source": [
    "df.columns"
   ]
  },
  {
   "cell_type": "code",
   "execution_count": 111,
   "id": "c737b003-b4d2-4230-ab43-972d1b7902ab",
   "metadata": {},
   "outputs": [
    {
     "name": "stdout",
     "output_type": "stream",
     "text": [
      " Embarked   |   cnt\n",
      "------------+-------\n",
      " S          |   914\n",
      " C          |   270\n",
      " Q          |   123\n"
     ]
    }
   ],
   "source": [
    "print_table(df >> group_by('Embarked') >> summarize(cnt='n()'))"
   ]
  },
  {
   "cell_type": "code",
   "execution_count": 112,
   "id": "95a23556-be7f-4fa3-a1a6-7dc9218b4f34",
   "metadata": {},
   "outputs": [],
   "source": [
    "categorical_columns = ['Sex', 'Embarked']\n",
    "\n",
    "data = pd.concat([df, pd.get_dummies(df[categorical_columns], \n",
    "                                     drop_first=True,  \n",
    "                                     dtype='int', \n",
    "                                     prefix=categorical_columns, \n",
    "                                     prefix_sep='Is')], axis=1\n",
    "                )"
   ]
  },
  {
   "cell_type": "code",
   "execution_count": 113,
   "id": "b0700bab-4e93-4cc4-a200-820b0a9a9c57",
   "metadata": {},
   "outputs": [
    {
     "name": "stdout",
     "output_type": "stream",
     "text": [
      "   PassengerId |   Survived |   Pclass | Name                                                | Sex    |   Age |   SibSp |   Parch | Ticket           |    Fare | Cabin   | Embarked   |   TestData |   SexIsmale |   EmbarkedIsQ |   EmbarkedIsS\n",
      "---------------+------------+----------+-----------------------------------------------------+--------+-------+---------+---------+------------------+---------+---------+------------+------------+-------------+---------------+---------------\n",
      "             1 |          0 |        3 | Braund, Mr. Owen Harris                             | male   |    22 |       1 |       0 | A/5 21171        |  7.25   | nan     | S          |          0 |           1 |             0 |             1\n",
      "             2 |          1 |        1 | Cumings, Mrs. John Bradley (Florence Briggs Thayer) | female |    38 |       1 |       0 | PC 17599         | 71.2833 | C85     | C          |          0 |           0 |             0 |             0\n",
      "             3 |          1 |        3 | Heikkinen, Miss. Laina                              | female |    26 |       0 |       0 | STON/O2. 3101282 |  7.925  | nan     | S          |          0 |           0 |             0 |             1\n",
      "             4 |          1 |        1 | Futrelle, Mrs. Jacques Heath (Lily May Peel)        | female |    35 |       1 |       0 | 113803           | 53.1    | C123    | S          |          0 |           0 |             0 |             1\n",
      "             5 |          0 |        3 | Allen, Mr. William Henry                            | male   |    35 |       0 |       0 | 373450           |  8.05   | nan     | S          |          0 |           1 |             0 |             1\n"
     ]
    }
   ],
   "source": [
    "print_table(data >> head())"
   ]
  },
  {
   "cell_type": "code",
   "execution_count": 114,
   "id": "53e7669b-7b07-4533-8995-06eb1f4bb6ff",
   "metadata": {},
   "outputs": [
    {
     "data": {
      "text/plain": [
       "PassengerId       0\n",
       "Survived          0\n",
       "Pclass            0\n",
       "Name              0\n",
       "Sex               0\n",
       "Age             263\n",
       "SibSp             0\n",
       "Parch             0\n",
       "Ticket            0\n",
       "Fare              1\n",
       "Cabin          1014\n",
       "Embarked          2\n",
       "TestData          0\n",
       "SexIsmale         0\n",
       "EmbarkedIsQ       0\n",
       "EmbarkedIsS       0\n",
       "dtype: int64"
      ]
     },
     "execution_count": 114,
     "metadata": {},
     "output_type": "execute_result"
    }
   ],
   "source": [
    "data.isna().sum()"
   ]
  },
  {
   "cell_type": "code",
   "execution_count": 115,
   "id": "715347a6-3875-4dd5-b340-066555f3492e",
   "metadata": {},
   "outputs": [
    {
     "data": {
      "text/plain": [
       "29.881137667304014"
      ]
     },
     "execution_count": 115,
     "metadata": {},
     "output_type": "execute_result"
    }
   ],
   "source": [
    "data['Age'].mean()"
   ]
  },
  {
   "cell_type": "code",
   "execution_count": 116,
   "id": "b80d2db2-3aa1-4df3-864d-98d8931da902",
   "metadata": {},
   "outputs": [
    {
     "name": "stdout",
     "output_type": "stream",
     "text": [
      "   avg_age\n",
      "-----------\n",
      "   29.8811\n"
     ]
    }
   ],
   "source": [
    "print_table(data >> summarize(avg_age='mean(Age)'))"
   ]
  },
  {
   "cell_type": "code",
   "execution_count": 117,
   "id": "2366d619-b88d-4217-ac55-5adba516151a",
   "metadata": {},
   "outputs": [],
   "source": [
    "data['AgeImputed'] = data['Age'].fillna(value=data['Age'].mean(), inplace=False)\n",
    "data['FareImputed'] = data['Fare'].fillna(value=data['Fare'].mean(), inplace=False)"
   ]
  },
  {
   "cell_type": "code",
   "execution_count": 118,
   "id": "84d90303-1cc4-4d52-a999-85ee1e5c23ec",
   "metadata": {},
   "outputs": [
    {
     "data": {
      "text/plain": [
       "PassengerId       0\n",
       "Survived          0\n",
       "Pclass            0\n",
       "Name              0\n",
       "Sex               0\n",
       "Age             263\n",
       "SibSp             0\n",
       "Parch             0\n",
       "Ticket            0\n",
       "Fare              1\n",
       "Cabin          1014\n",
       "Embarked          2\n",
       "TestData          0\n",
       "SexIsmale         0\n",
       "EmbarkedIsQ       0\n",
       "EmbarkedIsS       0\n",
       "AgeImputed        0\n",
       "FareImputed       0\n",
       "dtype: int64"
      ]
     },
     "execution_count": 118,
     "metadata": {},
     "output_type": "execute_result"
    }
   ],
   "source": [
    "data.isna().sum()"
   ]
  },
  {
   "cell_type": "code",
   "execution_count": 123,
   "id": "2e4969d7-864c-4146-aee3-0071a902b175",
   "metadata": {},
   "outputs": [],
   "source": [
    "data = data.rename(columns={\"SexIsmale\": \"SexIsMale\"})"
   ]
  },
  {
   "cell_type": "code",
   "execution_count": 128,
   "id": "0618c9a7-94b7-4c98-8463-cf80c1a983b4",
   "metadata": {},
   "outputs": [
    {
     "data": {
      "text/plain": [
       "Index(['PassengerId', 'Survived', 'Pclass', 'Name', 'Sex', 'Age', 'SibSp',\n",
       "       'Parch', 'Ticket', 'Fare', 'Cabin', 'Embarked', 'TestData', 'SexIsMale',\n",
       "       'EmbarkedIsQ', 'EmbarkedIsS', 'AgeImputed', 'FareImputed'],\n",
       "      dtype='object')"
      ]
     },
     "execution_count": 128,
     "metadata": {},
     "output_type": "execute_result"
    }
   ],
   "source": [
    "data.columns"
   ]
  },
  {
   "cell_type": "code",
   "execution_count": 124,
   "id": "3d0cf653-fbe7-437c-a920-5e7e4a77b780",
   "metadata": {},
   "outputs": [],
   "source": [
    "from sklearn.model_selection import train_test_split"
   ]
  },
  {
   "cell_type": "code",
   "execution_count": 133,
   "id": "f6790ad0-fa0a-42ad-90a0-7b717a3c4a93",
   "metadata": {},
   "outputs": [],
   "source": [
    "features = [\n",
    "    'Pclass', \n",
    "    # 'Name', \n",
    "    # 'Sex', \n",
    "    # 'Age', \n",
    "    'SibSp', \n",
    "    'Parch', \n",
    "    # # 'Ticket', \n",
    "    # 'Fare', \n",
    "    # 'Cabin', \n",
    "    'SexIsMale',\n",
    "    'EmbarkedIsQ', \n",
    "    'EmbarkedIsS', \n",
    "    'AgeImputed', \n",
    "    'FareImputed'\n",
    "]\n",
    "\n",
    "target = 'Survived'"
   ]
  },
  {
   "cell_type": "code",
   "execution_count": 134,
   "id": "9feaf991-f19f-4429-92f6-c1ad537e15f2",
   "metadata": {},
   "outputs": [],
   "source": [
    "X = data[features]\n",
    "y = data[target]\n",
    "\n",
    "X_train, X_test, y_train, y_test = train_test_split(X, y, test_size=0.3, random_state=99)"
   ]
  },
  {
   "cell_type": "code",
   "execution_count": 135,
   "id": "35bba518-1f86-4cb3-82bd-c9101f07344e",
   "metadata": {},
   "outputs": [],
   "source": [
    "# Normalize the data to avoid Vanishing gradient\n",
    "\n",
    "from sklearn.preprocessing import MinMaxScaler, StandardScaler\n",
    "\n",
    "scaler = MinMaxScaler()\n",
    "scaler.fit(X_train)\n",
    "X_train = scaler.transform(X_train)\n",
    "X_test = scaler.transform(X_test)"
   ]
  },
  {
   "cell_type": "code",
   "execution_count": 137,
   "id": "515cff79-1f0a-4b6a-a396-e3a14aa0a71b",
   "metadata": {},
   "outputs": [],
   "source": [
    "from sklearn.linear_model import LogisticRegression\n",
    "from sklearn.tree import DecisionTreeClassifier\n",
    "from sklearn.ensemble import RandomForestClassifier, GradientBoostingClassifier\n",
    "from sklearn.naive_bayes import GaussianNB\n",
    "from sklearn.svm import SVC\n",
    "from sklearn.neighbors import KNeighborsClassifier\n",
    "\n",
    "classifiers  = {\n",
    "    'Logistic Regression' : LogisticRegression(solver='lbfgs'),\n",
    "    'Decision Tree': DecisionTreeClassifier(),\n",
    "    'Random Forest': RandomForestClassifier(n_estimators=20),\n",
    "    'GaussianNB': GaussianNB(),\n",
    "    'SVM': SVC(gamma='auto'),\n",
    "    'KNN': KNeighborsClassifier(n_neighbors=10),\n",
    "    'Gradient Boosting': GradientBoostingClassifier(n_estimators=5)\n",
    "}"
   ]
  },
  {
   "cell_type": "code",
   "execution_count": 144,
   "id": "1e3f753b-3b52-4d1f-938e-88e937324d5f",
   "metadata": {},
   "outputs": [
    {
     "name": "stdout",
     "output_type": "stream",
     "text": [
      "====================================================================================================\n",
      "Logistic Regression\n",
      "====================================================================================================\n",
      "Recall: 0.785 (+/-0.057)\n",
      "Precision: 0.834 (+/-0.096)\n",
      "F1: 0.803 (+/-0.036)\n",
      "====================================================================================================\n",
      "Decision Tree\n",
      "====================================================================================================\n",
      "Recall: 0.752 (+/-0.072)\n",
      "Precision: 0.738 (+/-0.091)\n",
      "F1: 0.741 (+/-0.061)\n",
      "====================================================================================================\n",
      "Random Forest\n",
      "====================================================================================================\n",
      "Recall: 0.764 (+/-0.086)\n",
      "Precision: 0.807 (+/-0.100)\n",
      "F1: 0.778 (+/-0.056)\n",
      "====================================================================================================\n",
      "GaussianNB\n",
      "====================================================================================================\n",
      "Recall: 0.794 (+/-0.058)\n",
      "Precision: 0.786 (+/-0.103)\n",
      "F1: 0.783 (+/-0.036)\n",
      "====================================================================================================\n",
      "SVM\n",
      "====================================================================================================\n",
      "Recall: 0.788 (+/-0.055)\n",
      "Precision: 0.834 (+/-0.096)\n",
      "F1: 0.805 (+/-0.038)\n",
      "====================================================================================================\n",
      "KNN\n",
      "====================================================================================================\n",
      "Recall: 0.735 (+/-0.073)\n",
      "Precision: 0.833 (+/-0.096)\n",
      "F1: 0.775 (+/-0.043)\n",
      "====================================================================================================\n",
      "Gradient Boosting\n",
      "====================================================================================================\n",
      "Recall: 0.738 (+/-0.075)\n",
      "Precision: 0.851 (+/-0.096)\n",
      "F1: 0.784 (+/-0.048)\n",
      "====================================================================================================\n"
     ]
    }
   ],
   "source": [
    "from sklearn.model_selection import KFold, cross_val_score, cross_validate\n",
    "\n",
    "print('=' * 100)\n",
    "for name in classifiers:\n",
    "    print(name)\n",
    "    print('=' * 100)\n",
    "    classifier = classifiers[name]\n",
    "    kflod = KFold(n_splits=10, random_state=100, shuffle=True)\n",
    "    cv_res = cross_validate(classifier, X_train, y_train, cv=kflod, scoring=('recall', 'precision', 'f1'))\n",
    "    print('{}: {:.3f} (+/-{:.3f})'.format('Recall', cv_res['test_recall'].mean(), cv_res['test_recall'].std()))\n",
    "    print('{}: {:.3f} (+/-{:.3f})'.format('Precision', cv_res['test_precision'].mean(), cv_res['test_precision'].std()))\n",
    "    print('{}: {:.3f} (+/-{:.3f})'.format('F1', cv_res['test_f1'].mean(), cv_res['test_f1'].std()))\n",
    "    print('=' * 100)"
   ]
  },
  {
   "cell_type": "code",
   "execution_count": 145,
   "id": "d7e98584-91a1-4046-9a0f-d04b931d0cf1",
   "metadata": {},
   "outputs": [],
   "source": [
    "### Let's use Random Forest to do the grid search\n",
    "from sklearn.model_selection import GridSearchCV, RandomizedSearchCV"
   ]
  },
  {
   "cell_type": "code",
   "execution_count": 151,
   "id": "4557c432-e166-477d-946a-92849c0b0cfe",
   "metadata": {},
   "outputs": [
    {
     "data": {
      "text/plain": [
       "{'n_estimators': [10, 20, 30, 40, 50, 60, 70, 80, 90, 100],\n",
       " 'max_features': ['sqrt'],\n",
       " 'max_depth': [1, 2, 3],\n",
       " 'min_samples_split': [3, 5, 8],\n",
       " 'min_samples_leaf': [1, 2, 4],\n",
       " 'bootstrap': [True, False]}"
      ]
     },
     "execution_count": 151,
     "metadata": {},
     "output_type": "execute_result"
    }
   ],
   "source": [
    "# Number of trees in random forest\n",
    "n_estimators = list(range(10, 110, 10))\n",
    "\n",
    "# Number of features to consider at every split\n",
    "max_features = ['sqrt']\n",
    "\n",
    "# Maximum number of levels in tree\n",
    "max_depth = list(range(1,4))\n",
    "\n",
    "# Minimum number of samples required to split a node\n",
    "min_samples_split = [3, 5, 8]\n",
    "\n",
    "# Minimum number of samples required at each leaf node\n",
    "min_samples_leaf = [1, 2, 4]\n",
    "\n",
    "# Method of selecting samples for training each tree\n",
    "bootstrap = [True, False]\n",
    "\n",
    "# Create the param grid\n",
    "param_grid = {\n",
    "    'n_estimators': n_estimators,\n",
    "    'max_features': max_features,\n",
    "    'max_depth': max_depth,\n",
    "    'min_samples_split': min_samples_split,\n",
    "    'min_samples_leaf': min_samples_leaf,\n",
    "    'bootstrap': bootstrap\n",
    "}\n",
    "\n",
    "param_grid"
   ]
  },
  {
   "cell_type": "code",
   "execution_count": 152,
   "id": "a27104b9-a25c-47fd-acd9-733b9f58f6f0",
   "metadata": {},
   "outputs": [],
   "source": [
    "grid_search_cv = GridSearchCV(estimator=RandomForestClassifier(), param_grid=param_grid, scoring = 'f1', n_jobs=-1)"
   ]
  },
  {
   "cell_type": "code",
   "execution_count": 153,
   "id": "c49c44c8-6b7b-4bb8-ae81-3b04d93755d3",
   "metadata": {},
   "outputs": [
    {
     "name": "stdout",
     "output_type": "stream",
     "text": [
      "CPU times: user 2.62 s, sys: 531 ms, total: 3.15 s\n",
      "Wall time: 43.5 s\n"
     ]
    },
    {
     "data": {
      "text/html": [
       "<style>#sk-container-id-1 {color: black;background-color: white;}#sk-container-id-1 pre{padding: 0;}#sk-container-id-1 div.sk-toggleable {background-color: white;}#sk-container-id-1 label.sk-toggleable__label {cursor: pointer;display: block;width: 100%;margin-bottom: 0;padding: 0.3em;box-sizing: border-box;text-align: center;}#sk-container-id-1 label.sk-toggleable__label-arrow:before {content: \"▸\";float: left;margin-right: 0.25em;color: #696969;}#sk-container-id-1 label.sk-toggleable__label-arrow:hover:before {color: black;}#sk-container-id-1 div.sk-estimator:hover label.sk-toggleable__label-arrow:before {color: black;}#sk-container-id-1 div.sk-toggleable__content {max-height: 0;max-width: 0;overflow: hidden;text-align: left;background-color: #f0f8ff;}#sk-container-id-1 div.sk-toggleable__content pre {margin: 0.2em;color: black;border-radius: 0.25em;background-color: #f0f8ff;}#sk-container-id-1 input.sk-toggleable__control:checked~div.sk-toggleable__content {max-height: 200px;max-width: 100%;overflow: auto;}#sk-container-id-1 input.sk-toggleable__control:checked~label.sk-toggleable__label-arrow:before {content: \"▾\";}#sk-container-id-1 div.sk-estimator input.sk-toggleable__control:checked~label.sk-toggleable__label {background-color: #d4ebff;}#sk-container-id-1 div.sk-label input.sk-toggleable__control:checked~label.sk-toggleable__label {background-color: #d4ebff;}#sk-container-id-1 input.sk-hidden--visually {border: 0;clip: rect(1px 1px 1px 1px);clip: rect(1px, 1px, 1px, 1px);height: 1px;margin: -1px;overflow: hidden;padding: 0;position: absolute;width: 1px;}#sk-container-id-1 div.sk-estimator {font-family: monospace;background-color: #f0f8ff;border: 1px dotted black;border-radius: 0.25em;box-sizing: border-box;margin-bottom: 0.5em;}#sk-container-id-1 div.sk-estimator:hover {background-color: #d4ebff;}#sk-container-id-1 div.sk-parallel-item::after {content: \"\";width: 100%;border-bottom: 1px solid gray;flex-grow: 1;}#sk-container-id-1 div.sk-label:hover label.sk-toggleable__label {background-color: #d4ebff;}#sk-container-id-1 div.sk-serial::before {content: \"\";position: absolute;border-left: 1px solid gray;box-sizing: border-box;top: 0;bottom: 0;left: 50%;z-index: 0;}#sk-container-id-1 div.sk-serial {display: flex;flex-direction: column;align-items: center;background-color: white;padding-right: 0.2em;padding-left: 0.2em;position: relative;}#sk-container-id-1 div.sk-item {position: relative;z-index: 1;}#sk-container-id-1 div.sk-parallel {display: flex;align-items: stretch;justify-content: center;background-color: white;position: relative;}#sk-container-id-1 div.sk-item::before, #sk-container-id-1 div.sk-parallel-item::before {content: \"\";position: absolute;border-left: 1px solid gray;box-sizing: border-box;top: 0;bottom: 0;left: 50%;z-index: -1;}#sk-container-id-1 div.sk-parallel-item {display: flex;flex-direction: column;z-index: 1;position: relative;background-color: white;}#sk-container-id-1 div.sk-parallel-item:first-child::after {align-self: flex-end;width: 50%;}#sk-container-id-1 div.sk-parallel-item:last-child::after {align-self: flex-start;width: 50%;}#sk-container-id-1 div.sk-parallel-item:only-child::after {width: 0;}#sk-container-id-1 div.sk-dashed-wrapped {border: 1px dashed gray;margin: 0 0.4em 0.5em 0.4em;box-sizing: border-box;padding-bottom: 0.4em;background-color: white;}#sk-container-id-1 div.sk-label label {font-family: monospace;font-weight: bold;display: inline-block;line-height: 1.2em;}#sk-container-id-1 div.sk-label-container {text-align: center;}#sk-container-id-1 div.sk-container {/* jupyter's `normalize.less` sets `[hidden] { display: none; }` but bootstrap.min.css set `[hidden] { display: none !important; }` so we also need the `!important` here to be able to override the default hidden behavior on the sphinx rendered scikit-learn.org. See: https://github.com/scikit-learn/scikit-learn/issues/21755 */display: inline-block !important;position: relative;}#sk-container-id-1 div.sk-text-repr-fallback {display: none;}</style><div id=\"sk-container-id-1\" class=\"sk-top-container\"><div class=\"sk-text-repr-fallback\"><pre>GridSearchCV(estimator=RandomForestClassifier(), n_jobs=-1,\n",
       "             param_grid={&#x27;bootstrap&#x27;: [True, False], &#x27;max_depth&#x27;: [1, 2, 3],\n",
       "                         &#x27;max_features&#x27;: [&#x27;sqrt&#x27;],\n",
       "                         &#x27;min_samples_leaf&#x27;: [1, 2, 4],\n",
       "                         &#x27;min_samples_split&#x27;: [3, 5, 8],\n",
       "                         &#x27;n_estimators&#x27;: [10, 20, 30, 40, 50, 60, 70, 80, 90,\n",
       "                                          100]},\n",
       "             scoring=&#x27;f1&#x27;)</pre><b>In a Jupyter environment, please rerun this cell to show the HTML representation or trust the notebook. <br />On GitHub, the HTML representation is unable to render, please try loading this page with nbviewer.org.</b></div><div class=\"sk-container\" hidden><div class=\"sk-item sk-dashed-wrapped\"><div class=\"sk-label-container\"><div class=\"sk-label sk-toggleable\"><input class=\"sk-toggleable__control sk-hidden--visually\" id=\"sk-estimator-id-1\" type=\"checkbox\" ><label for=\"sk-estimator-id-1\" class=\"sk-toggleable__label sk-toggleable__label-arrow\">GridSearchCV</label><div class=\"sk-toggleable__content\"><pre>GridSearchCV(estimator=RandomForestClassifier(), n_jobs=-1,\n",
       "             param_grid={&#x27;bootstrap&#x27;: [True, False], &#x27;max_depth&#x27;: [1, 2, 3],\n",
       "                         &#x27;max_features&#x27;: [&#x27;sqrt&#x27;],\n",
       "                         &#x27;min_samples_leaf&#x27;: [1, 2, 4],\n",
       "                         &#x27;min_samples_split&#x27;: [3, 5, 8],\n",
       "                         &#x27;n_estimators&#x27;: [10, 20, 30, 40, 50, 60, 70, 80, 90,\n",
       "                                          100]},\n",
       "             scoring=&#x27;f1&#x27;)</pre></div></div></div><div class=\"sk-parallel\"><div class=\"sk-parallel-item\"><div class=\"sk-item\"><div class=\"sk-label-container\"><div class=\"sk-label sk-toggleable\"><input class=\"sk-toggleable__control sk-hidden--visually\" id=\"sk-estimator-id-2\" type=\"checkbox\" ><label for=\"sk-estimator-id-2\" class=\"sk-toggleable__label sk-toggleable__label-arrow\">estimator: RandomForestClassifier</label><div class=\"sk-toggleable__content\"><pre>RandomForestClassifier()</pre></div></div></div><div class=\"sk-serial\"><div class=\"sk-item\"><div class=\"sk-estimator sk-toggleable\"><input class=\"sk-toggleable__control sk-hidden--visually\" id=\"sk-estimator-id-3\" type=\"checkbox\" ><label for=\"sk-estimator-id-3\" class=\"sk-toggleable__label sk-toggleable__label-arrow\">RandomForestClassifier</label><div class=\"sk-toggleable__content\"><pre>RandomForestClassifier()</pre></div></div></div></div></div></div></div></div></div></div>"
      ],
      "text/plain": [
       "GridSearchCV(estimator=RandomForestClassifier(), n_jobs=-1,\n",
       "             param_grid={'bootstrap': [True, False], 'max_depth': [1, 2, 3],\n",
       "                         'max_features': ['sqrt'],\n",
       "                         'min_samples_leaf': [1, 2, 4],\n",
       "                         'min_samples_split': [3, 5, 8],\n",
       "                         'n_estimators': [10, 20, 30, 40, 50, 60, 70, 80, 90,\n",
       "                                          100]},\n",
       "             scoring='f1')"
      ]
     },
     "execution_count": 153,
     "metadata": {},
     "output_type": "execute_result"
    }
   ],
   "source": [
    "%%time\n",
    "grid_search_cv.fit(X_train, y_train)"
   ]
  },
  {
   "cell_type": "code",
   "execution_count": 154,
   "id": "c3ac38f9-7969-4bae-94e0-a92e07a89c22",
   "metadata": {},
   "outputs": [],
   "source": [
    "model = grid_search_cv.best_estimator_"
   ]
  },
  {
   "cell_type": "code",
   "execution_count": 156,
   "id": "b30e0671-c87d-4e92-93ea-4adcf8e72f6f",
   "metadata": {},
   "outputs": [
    {
     "data": {
      "text/html": [
       "<style>#sk-container-id-2 {color: black;background-color: white;}#sk-container-id-2 pre{padding: 0;}#sk-container-id-2 div.sk-toggleable {background-color: white;}#sk-container-id-2 label.sk-toggleable__label {cursor: pointer;display: block;width: 100%;margin-bottom: 0;padding: 0.3em;box-sizing: border-box;text-align: center;}#sk-container-id-2 label.sk-toggleable__label-arrow:before {content: \"▸\";float: left;margin-right: 0.25em;color: #696969;}#sk-container-id-2 label.sk-toggleable__label-arrow:hover:before {color: black;}#sk-container-id-2 div.sk-estimator:hover label.sk-toggleable__label-arrow:before {color: black;}#sk-container-id-2 div.sk-toggleable__content {max-height: 0;max-width: 0;overflow: hidden;text-align: left;background-color: #f0f8ff;}#sk-container-id-2 div.sk-toggleable__content pre {margin: 0.2em;color: black;border-radius: 0.25em;background-color: #f0f8ff;}#sk-container-id-2 input.sk-toggleable__control:checked~div.sk-toggleable__content {max-height: 200px;max-width: 100%;overflow: auto;}#sk-container-id-2 input.sk-toggleable__control:checked~label.sk-toggleable__label-arrow:before {content: \"▾\";}#sk-container-id-2 div.sk-estimator input.sk-toggleable__control:checked~label.sk-toggleable__label {background-color: #d4ebff;}#sk-container-id-2 div.sk-label input.sk-toggleable__control:checked~label.sk-toggleable__label {background-color: #d4ebff;}#sk-container-id-2 input.sk-hidden--visually {border: 0;clip: rect(1px 1px 1px 1px);clip: rect(1px, 1px, 1px, 1px);height: 1px;margin: -1px;overflow: hidden;padding: 0;position: absolute;width: 1px;}#sk-container-id-2 div.sk-estimator {font-family: monospace;background-color: #f0f8ff;border: 1px dotted black;border-radius: 0.25em;box-sizing: border-box;margin-bottom: 0.5em;}#sk-container-id-2 div.sk-estimator:hover {background-color: #d4ebff;}#sk-container-id-2 div.sk-parallel-item::after {content: \"\";width: 100%;border-bottom: 1px solid gray;flex-grow: 1;}#sk-container-id-2 div.sk-label:hover label.sk-toggleable__label {background-color: #d4ebff;}#sk-container-id-2 div.sk-serial::before {content: \"\";position: absolute;border-left: 1px solid gray;box-sizing: border-box;top: 0;bottom: 0;left: 50%;z-index: 0;}#sk-container-id-2 div.sk-serial {display: flex;flex-direction: column;align-items: center;background-color: white;padding-right: 0.2em;padding-left: 0.2em;position: relative;}#sk-container-id-2 div.sk-item {position: relative;z-index: 1;}#sk-container-id-2 div.sk-parallel {display: flex;align-items: stretch;justify-content: center;background-color: white;position: relative;}#sk-container-id-2 div.sk-item::before, #sk-container-id-2 div.sk-parallel-item::before {content: \"\";position: absolute;border-left: 1px solid gray;box-sizing: border-box;top: 0;bottom: 0;left: 50%;z-index: -1;}#sk-container-id-2 div.sk-parallel-item {display: flex;flex-direction: column;z-index: 1;position: relative;background-color: white;}#sk-container-id-2 div.sk-parallel-item:first-child::after {align-self: flex-end;width: 50%;}#sk-container-id-2 div.sk-parallel-item:last-child::after {align-self: flex-start;width: 50%;}#sk-container-id-2 div.sk-parallel-item:only-child::after {width: 0;}#sk-container-id-2 div.sk-dashed-wrapped {border: 1px dashed gray;margin: 0 0.4em 0.5em 0.4em;box-sizing: border-box;padding-bottom: 0.4em;background-color: white;}#sk-container-id-2 div.sk-label label {font-family: monospace;font-weight: bold;display: inline-block;line-height: 1.2em;}#sk-container-id-2 div.sk-label-container {text-align: center;}#sk-container-id-2 div.sk-container {/* jupyter's `normalize.less` sets `[hidden] { display: none; }` but bootstrap.min.css set `[hidden] { display: none !important; }` so we also need the `!important` here to be able to override the default hidden behavior on the sphinx rendered scikit-learn.org. See: https://github.com/scikit-learn/scikit-learn/issues/21755 */display: inline-block !important;position: relative;}#sk-container-id-2 div.sk-text-repr-fallback {display: none;}</style><div id=\"sk-container-id-2\" class=\"sk-top-container\"><div class=\"sk-text-repr-fallback\"><pre>RandomForestClassifier(bootstrap=False, max_depth=3, min_samples_leaf=2,\n",
       "                       min_samples_split=8, n_estimators=30)</pre><b>In a Jupyter environment, please rerun this cell to show the HTML representation or trust the notebook. <br />On GitHub, the HTML representation is unable to render, please try loading this page with nbviewer.org.</b></div><div class=\"sk-container\" hidden><div class=\"sk-item\"><div class=\"sk-estimator sk-toggleable\"><input class=\"sk-toggleable__control sk-hidden--visually\" id=\"sk-estimator-id-4\" type=\"checkbox\" checked><label for=\"sk-estimator-id-4\" class=\"sk-toggleable__label sk-toggleable__label-arrow\">RandomForestClassifier</label><div class=\"sk-toggleable__content\"><pre>RandomForestClassifier(bootstrap=False, max_depth=3, min_samples_leaf=2,\n",
       "                       min_samples_split=8, n_estimators=30)</pre></div></div></div></div></div>"
      ],
      "text/plain": [
       "RandomForestClassifier(bootstrap=False, max_depth=3, min_samples_leaf=2,\n",
       "                       min_samples_split=8, n_estimators=30)"
      ]
     },
     "execution_count": 156,
     "metadata": {},
     "output_type": "execute_result"
    }
   ],
   "source": [
    "model"
   ]
  },
  {
   "cell_type": "code",
   "execution_count": 157,
   "id": "d8b1673e-f09b-428d-ab6b-f55dc1c45ab0",
   "metadata": {},
   "outputs": [],
   "source": [
    "from sklearn.metrics import f1_score, recall_score, precision_score, classification_report, confusion_matrix, roc_auc_score"
   ]
  },
  {
   "cell_type": "code",
   "execution_count": 158,
   "id": "46457877-2573-4e35-8287-447a063494ec",
   "metadata": {},
   "outputs": [
    {
     "name": "stdout",
     "output_type": "stream",
     "text": [
      "SexIsMale      0.640008\n",
      "FareImputed    0.125349\n",
      "Pclass         0.064729\n",
      "AgeImputed     0.056303\n",
      "Parch          0.042268\n",
      "EmbarkedIsS    0.031272\n",
      "SibSp          0.025683\n",
      "EmbarkedIsQ    0.014388\n",
      "dtype: float64\n"
     ]
    }
   ],
   "source": [
    "feature_imp = pd.Series(model.feature_importances_, index=features).sort_values(ascending=False)\n",
    "\n",
    "print(feature_imp)"
   ]
  },
  {
   "cell_type": "code",
   "execution_count": 159,
   "id": "e0c7f6ca-4b12-4439-b1df-c69d4dcaecee",
   "metadata": {},
   "outputs": [
    {
     "data": {
      "image/png": "[encoded data removed]",
      "text/plain": [
       "<Figure size 640x480 with 1 Axes>"
      ]
     },
     "metadata": {},
     "output_type": "display_data"
    }
   ],
   "source": [
    "sns.barplot(x=feature_imp, y=feature_imp.index)\n",
    "\n",
    "plt.xlabel('Feature Importance Score')\n",
    "plt.ylabel('Features')\n",
    "plt.show()"
   ]
  },
  {
   "cell_type": "code",
   "execution_count": 160,
   "id": "6b722674-d2d8-4087-bb7b-5003de593f71",
   "metadata": {},
   "outputs": [],
   "source": [
    "y_pred = model.predict(X_test)\n",
    "\n",
    "y_pred_proba = model.predict_proba(X_test)[:,1]"
   ]
  },
  {
   "cell_type": "code",
   "execution_count": 162,
   "id": "e2da9f27-6325-4254-b671-57165837ee3c",
   "metadata": {},
   "outputs": [
    {
     "name": "stdout",
     "output_type": "stream",
     "text": [
      "Recall: 0.7763157894736842\n",
      "Precision: 0.8137931034482758\n",
      "F1: 0.7946127946127947\n",
      "AUC: 0.87864435466259\n"
     ]
    }
   ],
   "source": [
    "# model eveulation metrics\n",
    "print('Recall: {}'.format(recall_score(y_test, y_pred)))\n",
    "print('Precision: {}'.format(precision_score(y_test, y_pred)))\n",
    "print('F1: {}'.format(f1_score(y_test, y_pred)))\n",
    "print('AUC: {}'.format(roc_auc_score(y_test, y_pred_proba)))"
   ]
  },
  {
   "cell_type": "code",
   "execution_count": 163,
   "id": "b1fcfed5-8f1f-4a2a-97aa-3bf5abfd11a0",
   "metadata": {},
   "outputs": [
    {
     "name": "stdout",
     "output_type": "stream",
     "text": [
      "[[214  27]\n",
      " [ 34 118]]\n"
     ]
    }
   ],
   "source": [
    "# confusion matrix\n",
    "cm = confusion_matrix(y_test, y_pred)\n",
    "print(cm)"
   ]
  },
  {
   "cell_type": "code",
   "execution_count": 164,
   "id": "8a495137-298f-43ab-a9f1-34c966b56322",
   "metadata": {},
   "outputs": [
    {
     "name": "stdout",
     "output_type": "stream",
     "text": [
      "              precision    recall  f1-score   support\n",
      "\n",
      "           0       0.86      0.89      0.88       241\n",
      "           1       0.81      0.78      0.79       152\n",
      "\n",
      "    accuracy                           0.84       393\n",
      "   macro avg       0.84      0.83      0.83       393\n",
      "weighted avg       0.84      0.84      0.84       393\n",
      "\n"
     ]
    }
   ],
   "source": [
    "print(classification_report(y_test, y_pred))"
   ]
  },
  {
   "cell_type": "code",
   "execution_count": 173,
   "id": "5a492501-f22b-4b99-b734-583fd878bec7",
   "metadata": {},
   "outputs": [
    {
     "data": {
      "image/png": "[encoded data removed]",
      "text/plain": [
       "<Figure size 600x600 with 1 Axes>"
      ]
     },
     "metadata": {},
     "output_type": "display_data"
    }
   ],
   "source": [
    "plt.figure(figsize=(6,6))\n",
    "plt.imshow(cm, interpolation='nearest', cmap=plt.cm.Wistia)\n",
    "classes = ['Survived - Yes','Survived - No']\n",
    "plt.title('Confusion Matrix\\n\\nPredicted label')\n",
    "plt.ylabel('True label', size=12)\n",
    "# plt.xlabel('Predicted label')\n",
    "tick_marks = np.arange(len(classes))\n",
    "plt.xticks(tick_marks, classes, rotation=0)\n",
    "plt.yticks(tick_marks, classes)\n",
    "labels = [['TN','FP'], ['FN', 'TP']]\n",
    "for i in range(2):\n",
    "    for j in range(2):\n",
    "        plt.text(j,i, str(labels[i][j])+\" = \"+str(cm[i][j]))\n",
    "plt.show()"
   ]
  }
 ],
 "metadata": {
  "kernelspec": {
   "display_name": "Python 3 (ipykernel)",
   "language": "python",
   "name": "python3"
  },
  "language_info": {
   "codemirror_mode": {
    "name": "ipython",
    "version": 3
   },
   "file_extension": ".py",
   "mimetype": "text/x-python",
   "name": "python",
   "nbconvert_exporter": "python",
   "pygments_lexer": "ipython3",
   "version": "3.9.16"
  }
 },
 "nbformat": 4,
 "nbformat_minor": 5
}
